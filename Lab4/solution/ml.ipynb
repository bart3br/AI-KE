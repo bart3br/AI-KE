{
 "cells": [
  {
   "cell_type": "code",
   "execution_count": 20,
   "metadata": {},
   "outputs": [],
   "source": [
    "import numpy as np\n",
    "from sklearn.model_selection import GridSearchCV\n",
    "from sklearn.preprocessing import MinMaxScaler, StandardScaler, LabelEncoder\n",
    "from sklearn.naive_bayes import CategoricalNB\n",
    "from sklearn.tree import DecisionTreeClassifier\n",
    "from sklearn.model_selection import train_test_split\n",
    "from sklearn.metrics import accuracy_score, f1_score, precision_score, recall_score, make_scorer\n",
    "import os\n",
    "import pandas as pd"
   ]
  },
  {
   "cell_type": "code",
   "execution_count": 21,
   "metadata": {},
   "outputs": [],
   "source": [
    "DATA_DIR_PATH = os.path.join('..', 'data')\n",
    "\n",
    "DATA_FILENAME = 't-shirts.csv'\n",
    "DATA_FILE_PATH = os.path.join(DATA_DIR_PATH, DATA_FILENAME)\n",
    "\n",
    "df = pd.read_csv(DATA_FILE_PATH)"
   ]
  },
  {
   "cell_type": "code",
   "execution_count": 22,
   "metadata": {},
   "outputs": [],
   "source": [
    "for column in df.columns:\n",
    "    if df[column].dtype == 'object':\n",
    "        le = LabelEncoder()\n",
    "        df[column] = le.fit_transform(df[column])"
   ]
  },
  {
   "cell_type": "code",
   "execution_count": 23,
   "metadata": {},
   "outputs": [],
   "source": [
    "Y = df['demand']\n",
    "X = df.drop('demand', axis= 1)\n",
    "\n",
    "X_train, X_test, Y_train, Y_test = train_test_split(X, Y, test_size=0.2, random_state=42)"
   ]
  },
  {
   "cell_type": "code",
   "execution_count": 24,
   "metadata": {},
   "outputs": [],
   "source": [
    "preprocessing_methods = {\n",
    "    \"none\": lambda X: X,\n",
    "    \"normalization\": MinMaxScaler(),\n",
    "    \"standardization\": StandardScaler()\n",
    "}\n",
    "\n",
    "processed_data = {}\n",
    "for method, transformer in preprocessing_methods.items():\n",
    "    if method == \"none\":\n",
    "        X_train_transformed = X_train\n",
    "        X_test_transformed = X_test\n",
    "    else:\n",
    "        X_train_transformed = transformer.fit_transform(X_train)\n",
    "        X_test_transformed = transformer.transform(X_test)\n",
    "    processed_data[method] = (X_train_transformed, X_test_transformed)"
   ]
  },
  {
   "cell_type": "code",
   "execution_count": 25,
   "metadata": {},
   "outputs": [],
   "source": [
    "classifiers = {\n",
    "    'naive_bayes': CategoricalNB(),\n",
    "    'decision_tree': DecisionTreeClassifier(),\n",
    "}\n",
    "\n",
    "param_grids = {\n",
    "    'naive_bayes': {\n",
    "        'fit_prior': [True, False],\n",
    "        'class_prior': [None, [0.3, 0.3, 0.4]],\n",
    "        'alpha': [0.01, 0.1, 1.0]\n",
    "    },\n",
    "    'decision_tree': {\n",
    "        'criterion': ['gini', 'entropy'],\n",
    "        'max_depth': [None, 10, 15],\n",
    "        'min_samples_split': [2, 5, 10]\n",
    "    },\n",
    "}"
   ]
  },
  {
   "cell_type": "code",
   "execution_count": 26,
   "metadata": {},
   "outputs": [
    {
     "name": "stdout",
     "output_type": "stream",
     "text": [
      "Best parameters for naive_bayes with none preprocessing: {'alpha': 0.01, 'class_prior': None, 'fit_prior': True}\n",
      "Best cross-validation accuracy: 0.8135\n",
      "Best parameters for decision_tree with none preprocessing: {'criterion': 'gini', 'max_depth': None, 'min_samples_split': 2}\n",
      "Best cross-validation accuracy: 0.9698125\n",
      "Best parameters for naive_bayes with normalization preprocessing: {'alpha': 0.01, 'class_prior': None, 'fit_prior': True}\n",
      "Best cross-validation accuracy: 0.6893125\n",
      "Best parameters for decision_tree with normalization preprocessing: {'criterion': 'gini', 'max_depth': None, 'min_samples_split': 2}\n",
      "Best cross-validation accuracy: 0.9698125\n",
      "Best parameters for decision_tree with standardization preprocessing: {'criterion': 'gini', 'max_depth': None, 'min_samples_split': 2}\n",
      "Best cross-validation accuracy: 0.96975\n"
     ]
    }
   ],
   "source": [
    "best_models = {}\n",
    "for preproc_method, (X_train_proc, X_test_proc) in processed_data.items():\n",
    "    for clf_name, clf in classifiers.items():\n",
    "        if not (preproc_method==\"standardization\" and clf_name==\"naive_bayes\"):\n",
    "            grid_search = GridSearchCV(clf, param_grids[clf_name], cv=5, scoring='accuracy')\n",
    "            grid_search.fit(X_train_proc, Y_train)\n",
    "            \n",
    "            best_models[(preproc_method, clf_name)] = grid_search.best_estimator_\n",
    "            print(f\"Best parameters for {clf_name} with {preproc_method} preprocessing: {grid_search.best_params_}\")\n",
    "            print(f\"Best cross-validation accuracy: {grid_search.best_score_}\")"
   ]
  },
  {
   "cell_type": "code",
   "execution_count": 27,
   "metadata": {},
   "outputs": [
    {
     "name": "stdout",
     "output_type": "stream",
     "text": [
      "Test accuracy for naive_bayes with none preprocessing: 0.823\n",
      "Test accuracy for decision_tree with none preprocessing: 0.972\n",
      "Test accuracy for naive_bayes with normalization preprocessing: 0.69975\n",
      "Test accuracy for decision_tree with normalization preprocessing: 0.972\n",
      "Test accuracy for decision_tree with standardization preprocessing: 0.972\n"
     ]
    }
   ],
   "source": [
    "for (preproc_method, clf_name), model in best_models.items():\n",
    "    X_train_proc, X_test_proc = processed_data[preproc_method]\n",
    "    y_pred = model.predict(X_test_proc)\n",
    "    test_accuracy = accuracy_score(Y_test, y_pred)\n",
    "    print(f\"Test accuracy for {clf_name} with {preproc_method} preprocessing: {test_accuracy}\")"
   ]
  }
 ],
 "metadata": {
  "kernelspec": {
   "display_name": "Python 3",
   "language": "python",
   "name": "python3"
  },
  "language_info": {
   "codemirror_mode": {
    "name": "ipython",
    "version": 3
   },
   "file_extension": ".py",
   "mimetype": "text/x-python",
   "name": "python",
   "nbconvert_exporter": "python",
   "pygments_lexer": "ipython3",
   "version": "3.12.1"
  }
 },
 "nbformat": 4,
 "nbformat_minor": 2
}
