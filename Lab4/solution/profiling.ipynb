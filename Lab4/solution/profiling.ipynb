{
 "cells": [
  {
   "cell_type": "code",
   "execution_count": null,
   "metadata": {},
   "outputs": [],
   "source": [
    "from ydata_profiling import ProfileReport\n",
    "import pandas as pd\n",
    "import os"
   ]
  },
  {
   "cell_type": "code",
   "execution_count": null,
   "metadata": {},
   "outputs": [],
   "source": [
    "FILE_PATH = os.path.dirname(__file__)\n",
    "DATA_DIR_PATH = os.path.join(FILE_PATH, '..', 'data')\n",
    "\n",
    "DATA_FILENAME = 't-shirts.csv'\n",
    "DATA_FILE_PATH = os.path.join(DATA_DIR_PATH, DATA_FILENAME)\n",
    "\n",
    "REPORT_FILENAME = 't-shirts_profile_report.html'\n",
    "REPORT_FILE_PATH = os.path.join(DATA_DIR_PATH, REPORT_FILENAME)\n",
    "\n",
    "df = pd.read_csv(DATA_FILE_PATH)"
   ]
  },
  {
   "cell_type": "code",
   "execution_count": null,
   "metadata": {},
   "outputs": [],
   "source": [
    "t_shirts_report = ProfileReport(df= df, title= 'T-shirts profile report')"
   ]
  },
  {
   "cell_type": "code",
   "execution_count": null,
   "metadata": {},
   "outputs": [],
   "source": [
    "t_shirts_report.to_file(REPORT_FILE_PATH)"
   ]
  }
 ],
 "metadata": {
  "kernelspec": {
   "display_name": "Python 3",
   "language": "python",
   "name": "python3"
  },
  "language_info": {
   "name": "python",
   "version": "3.12.1"
  }
 },
 "nbformat": 4,
 "nbformat_minor": 2
}
