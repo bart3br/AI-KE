{
  "cells": [
    {
      "cell_type": "markdown",
      "metadata": {
        "id": "SiRkGBY8Yqa4"
      },
      "source": [
        "<h3>Download necessary package</h3>"
      ]
    },
    {
      "cell_type": "code",
      "execution_count": 1,
      "metadata": {
        "colab": {
          "base_uri": "https://localhost:8080/"
        },
        "id": "SSroN2kkYul4",
        "outputId": "9b6995f6-d6be-4acd-8b09-bcddcd50b9bb"
      },
      "outputs": [],
      "source": [
        "# to install all required packages, in .venv run\n",
        "# pip install -r requirements.txt\n"
      ]
    },
    {
      "cell_type": "code",
      "execution_count": null,
      "metadata": {},
      "outputs": [],
      "source": [
        "# pyproject.toml file:\n",
        "\n",
        "# [tool.poetry]\n",
        "# name = \"project_name\"\n",
        "# version = \"1\"\n",
        "# description = \"project_description\"\n",
        "# authors = [\"author_data\"]\n",
        "# package-mode = false\n",
        "# [tool.poetry.dependencies]\n",
        "# python = \"^3.12\"\n",
        "# fasttext-wheel = \"^0.9.2\"\n",
        "# [build-system]\n",
        "# requires = [\"poetry-core\"]\n",
        "# build-backend = \"poetry.core.masonry.api\"\n",
        "\n",
        "\n",
        "# install poetry with configuration defined in pyproject.toml\n",
        "# poetry install"
      ]
    },
    {
      "cell_type": "markdown",
      "metadata": {
        "id": "54IdLhDWY5hX"
      },
      "source": [
        "<h3>Import module</h3>"
      ]
    },
    {
      "cell_type": "code",
      "execution_count": 2,
      "metadata": {
        "id": "e-mJqwfdY_dv"
      },
      "outputs": [],
      "source": [
        "import numpy as np\n",
        "import fasttext"
      ]
    },
    {
      "cell_type": "markdown",
      "metadata": {
        "id": "s-QPrL6SZA96"
      },
      "source": [
        "<h3>Download and unzip fastText model</h3>"
      ]
    },
    {
      "cell_type": "code",
      "execution_count": 3,
      "metadata": {
        "colab": {
          "base_uri": "https://localhost:8080/"
        },
        "id": "IpvIpv_Tb0Cw",
        "outputId": "8362d4c2-577f-4902-badf-48a963713a86"
      },
      "outputs": [],
      "source": [
        "# !wget -O cc.en.300.bin.gz https://dl.fbaipublicfiles.com/fasttext/vectors-crawl/cc.en.300.bin.gz\n",
        "# Use powershell script download_fasttext.ps1 instead"
      ]
    },
    {
      "cell_type": "markdown",
      "metadata": {
        "id": "M264_L40dEd3"
      },
      "source": [
        "<h3>Unzip previously downloaded model</h3>"
      ]
    },
    {
      "cell_type": "code",
      "execution_count": 4,
      "metadata": {
        "id": "EdHki7zgdJiW"
      },
      "outputs": [],
      "source": [
        "# !gzip -d cc.en.300.bin.gz\n",
        "import gzip\n",
        "import shutil\n",
        "\n",
        "with gzip.open('cc.en.300.bin.gz', 'rb') as f_in:\n",
        "    with open('cc.en.300.bin', 'wb') as f_out:\n",
        "        shutil.copyfileobj(f_in, f_out)"
      ]
    },
    {
      "cell_type": "markdown",
      "metadata": {
        "id": "VUEz7VUMZIKS"
      },
      "source": [
        "<h3>Load model</h3>"
      ]
    },
    {
      "cell_type": "code",
      "execution_count": 5,
      "metadata": {
        "colab": {
          "base_uri": "https://localhost:8080/"
        },
        "id": "RBAFxfqxYmDb",
        "outputId": "2095a2ba-a6b4-4b3f-cec0-29d4bbb566b3"
      },
      "outputs": [],
      "source": [
        "model = fasttext.load_model('cc.en.300.bin')"
      ]
    },
    {
      "cell_type": "markdown",
      "metadata": {
        "id": "65qCZcPhZW01"
      },
      "source": [
        "<h3>Generate embeddings for the specified list of texts</h3>"
      ]
    },
    {
      "cell_type": "code",
      "execution_count": 6,
      "metadata": {
        "colab": {
          "base_uri": "https://localhost:8080/"
        },
        "id": "OseM-d65ZX6S",
        "outputId": "1886926a-1c58-49db-c790-f4844c9551c0"
      },
      "outputs": [
        {
          "data": {
            "text/plain": [
              "(2, 300)"
            ]
          },
          "execution_count": 6,
          "metadata": {},
          "output_type": "execute_result"
        }
      ],
      "source": [
        "texts_list = [\"Hello, my dog is cute.\", \"I love Artificial Intelligence. Machine Learning is my passion!\"]\n",
        "\n",
        "embeddings = np.array([model.get_sentence_vector(text) for text in texts_list])\n",
        "\n",
        "embeddings.shape"
      ]
    }
  ],
  "metadata": {
    "colab": {
      "provenance": []
    },
    "kernelspec": {
      "display_name": "Python 3",
      "name": "python3"
    },
    "language_info": {
      "codemirror_mode": {
        "name": "ipython",
        "version": 3
      },
      "file_extension": ".py",
      "mimetype": "text/x-python",
      "name": "python",
      "nbconvert_exporter": "python",
      "pygments_lexer": "ipython3",
      "version": "3.12.1"
    }
  },
  "nbformat": 4,
  "nbformat_minor": 0
}
