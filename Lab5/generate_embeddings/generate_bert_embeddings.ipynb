{
  "cells": [
    {
      "cell_type": "markdown",
      "metadata": {
        "id": "kbT6CaFYXNzT"
      },
      "source": [
        "<h3>Install necessary package</h3>"
      ]
    },
    {
      "cell_type": "code",
      "execution_count": 1,
      "metadata": {
        "colab": {
          "base_uri": "https://localhost:8080/"
        },
        "id": "E2GisfgzT1a4",
        "outputId": "3f251448-8e34-4256-e18b-59496efe0d93"
      },
      "outputs": [],
      "source": [
        "# !pip install sentence_transformers\n",
        "# already installed with requirements.txt file in .venv\n",
        "\n",
        "# make sure to verify installed numpy version with requirements.txt\n",
        "# it might have changed during poetry installation"
      ]
    },
    {
      "cell_type": "markdown",
      "metadata": {
        "id": "mZy9E3nJXVWT"
      },
      "source": [
        "<h3>Import class from the installed package</h3>"
      ]
    },
    {
      "cell_type": "code",
      "execution_count": 2,
      "metadata": {
        "id": "neiPf_AhSvQu"
      },
      "outputs": [
        {
          "name": "stderr",
          "output_type": "stream",
          "text": [
            "d:\\Dokumenty\\Studia semestr VI\\Sztuczna inteligencja\\Lab\\Lab5\\.venv\\Lib\\site-packages\\sentence_transformers\\cross_encoder\\CrossEncoder.py:11: TqdmExperimentalWarning: Using `tqdm.autonotebook.tqdm` in notebook mode. Use `tqdm.tqdm` instead to force console mode (e.g. in jupyter console)\n",
            "  from tqdm.autonotebook import tqdm, trange\n"
          ]
        }
      ],
      "source": [
        "from sentence_transformers import SentenceTransformer"
      ]
    },
    {
      "cell_type": "markdown",
      "metadata": {
        "id": "Qi3scihVXcI5"
      },
      "source": [
        "<h3>Download BERT model</h3>"
      ]
    },
    {
      "cell_type": "code",
      "execution_count": 3,
      "metadata": {
        "colab": {
          "base_uri": "https://localhost:8080/"
        },
        "id": "7WLwyZEeUGGT",
        "outputId": "288ca7e7-8cb1-48be-a86b-5d24fda56053"
      },
      "outputs": [
        {
          "name": "stderr",
          "output_type": "stream",
          "text": [
            "No sentence-transformers model found with name bert-base-cased. Creating a new one with mean pooling.\n",
            "d:\\Dokumenty\\Studia semestr VI\\Sztuczna inteligencja\\Lab\\Lab5\\.venv\\Lib\\site-packages\\huggingface_hub\\file_download.py:1132: FutureWarning: `resume_download` is deprecated and will be removed in version 1.0.0. Downloads always resume when possible. If you want to force a new download, use `force_download=True`.\n",
            "  warnings.warn(\n"
          ]
        }
      ],
      "source": [
        "model = SentenceTransformer('bert-base-cased')"
      ]
    },
    {
      "cell_type": "markdown",
      "metadata": {
        "id": "GHau-0a2XmnX"
      },
      "source": [
        "<h3>Generate embeddings for the specified list of texts</h3>"
      ]
    },
    {
      "cell_type": "code",
      "execution_count": 4,
      "metadata": {
        "colab": {
          "base_uri": "https://localhost:8080/"
        },
        "id": "syWVnL4AUOJQ",
        "outputId": "9ce500c8-1f49-44a0-ec45-673a5fd31709"
      },
      "outputs": [
        {
          "data": {
            "text/plain": [
              "(2, 768)"
            ]
          },
          "execution_count": 4,
          "metadata": {},
          "output_type": "execute_result"
        }
      ],
      "source": [
        "texts_list = [\"Hello, my dog is cute.\", \"I love Artificial Intelligence. Machine Learning is my passion!\"]\n",
        "\n",
        "embeddings = model.encode(texts_list)\n",
        "\n",
        "embeddings.shape"
      ]
    }
  ],
  "metadata": {
    "colab": {
      "provenance": []
    },
    "kernelspec": {
      "display_name": "Python 3",
      "name": "python3"
    },
    "language_info": {
      "codemirror_mode": {
        "name": "ipython",
        "version": 3
      },
      "file_extension": ".py",
      "mimetype": "text/x-python",
      "name": "python",
      "nbconvert_exporter": "python",
      "pygments_lexer": "ipython3",
      "version": "3.12.1"
    }
  },
  "nbformat": 4,
  "nbformat_minor": 0
}
